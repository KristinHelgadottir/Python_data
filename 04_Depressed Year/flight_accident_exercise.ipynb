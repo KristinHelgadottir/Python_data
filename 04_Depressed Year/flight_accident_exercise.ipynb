{
 "cells": [
  {
   "cell_type": "code",
   "execution_count": 3,
   "metadata": {
    "collapsed": false,
    "slideshow": {
     "slide_type": "-"
    }
   },
   "outputs": [
    {
     "name": "stdout",
     "output_type": "stream",
     "text": [
      "{'Event.Id': 'Event.Id', 'Investigation.Type': 'Investigation.Type', 'Accident.Number': 'Accident.Number', 'Event.Date': 'Event.Date', 'Location': 'Location', 'Country': 'Country', 'Latitude': 'Latitude', 'Longitude': 'Longitude', 'Airport.Code': 'Airport.Code', 'Airport.Name': 'Airport.Name', 'Injury.Severity': 'Injury.Severity', 'Aircraft.Damage': 'Aircraft.Damage', 'Aircraft.Category': 'Aircraft.Category', 'Registration.Number': 'Registration.Number', 'Make': 'Make', 'Model': 'Model', 'Amateur.Built': 'Amateur.Built', 'Number.of.Engines': 'Number.of.Engines', 'Engine.Type': 'Engine.Type', 'FAR.Description': 'FAR.Description', 'Schedule': 'Schedule', 'Purpose.of.Flight': 'Purpose.of.Flight', 'Air.Carrier': 'Air.Carrier', 'Total.Fatal.Injuries': 'Total.Fatal.Injuries', 'Total.Serious.Injuries': 'Total.Serious.Injuries', 'Total.Minor.Injuries': 'Total.Minor.Injuries', 'Total.Uninjured': 'Total.Uninjured', 'Weather.Condition': 'Weather.Condition', 'Broad.Phase.of.Flight': 'Broad.Phase.of.Flight', 'Report.Status': 'Report.Status', 'Publication.Date': 'Publication.Date'}\n"
     ]
    }
   ],
   "source": [
    "import pprint\n",
    "import csv\n",
    "import pandas as pd\n",
    "import numpy as np\n",
    "\n",
    "\n",
    "filename = './aviationdataset.csv'\n",
    "data_set = pd.read_csv(filename)\n",
    "\n",
    "contribution = {}\n",
    "\n",
    "for row in data_set:\n",
    "    fatality = row[:23]\n",
    "    fp = row[:28]\n",
    "    if fp not in contribution.keys():\n",
    "        contribution[fp] = fatality\n",
    "    else:\n",
    "        contribution[fp] += fatality        \n",
    "print(contribution)"
   ]
  }
 ],
 "metadata": {
  "kernelspec": {
   "display_name": "Python 3",
   "language": "python",
   "name": "python3"
  },
  "language_info": {
   "codemirror_mode": {
    "name": "ipython",
    "version": 3
   },
   "file_extension": ".py",
   "mimetype": "text/x-python",
   "name": "python",
   "nbconvert_exporter": "python",
   "pygments_lexer": "ipython3",
   "version": "3.6.0"
  }
 },
 "nbformat": 4,
 "nbformat_minor": 2
}
