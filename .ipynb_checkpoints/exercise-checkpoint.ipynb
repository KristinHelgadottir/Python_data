{
 "cells": [
  {
   "cell_type": "code",
   "execution_count": 5,
   "metadata": {
    "collapsed": false
   },
   "outputs": [
    {
     "data": {
      "text/plain": [
       "array([[1.0, 'Norway', 0.9440000000000001, ..., 12.6, '64,992', 5.0],\n",
       "       [2.0, 'Australia', 0.935, ..., 13.0, '42,261', 17.0],\n",
       "       [3.0, 'Switzerland', 0.93, ..., 12.8, '56,431', 6.0],\n",
       "       ..., \n",
       "       [nan, 'South Asia', 0.607, ..., 5.5, '5,605', nan],\n",
       "       [nan, 'Sub-Saharan Africa', 0.518, ..., 5.2, '3,363', nan],\n",
       "       [nan, 'World', 0.711, ..., 7.9, '14,301', nan]], dtype=object)"
      ]
     },
     "execution_count": 5,
     "metadata": {},
     "output_type": "execute_result"
    }
   ],
   "source": [
    "import os \n",
    "import pprint\n",
    "import csv\n",
    "import pandas as pd\n",
    "import numpy as np\n",
    "\n",
    "filename = './human_development.csv'\n",
    "\n",
    "array_of_stats = pd.read_csv(filename)\n",
    "array_of_stats\n",
    "\n",
    "\n",
    "dd = array_of_stats.as_matrix()"
   ]
  },
  {
   "cell_type": "code",
   "execution_count": 23,
   "metadata": {
    "collapsed": false
   },
   "outputs": [
    {
     "name": "stdout",
     "output_type": "stream",
     "text": [
      "0.9440000000000001\n",
      "0.348\n",
      "Norway has the highest Human Development Index\n",
      "Niger has the lowest Human Development Index\n"
     ]
    }
   ],
   "source": [
    "#Which country has the highest HDI (Human Development Index) and which has the lowest?\n",
    "highest_HDI = np.max(dd[:,2])\n",
    "print(highest_HDI)\n",
    "lowest_HDI = np.min(dd[:,2])\n",
    "print(lowest_HDI)\n",
    "\n",
    "for d in dd:\n",
    "    if d[2] == highest_HDI:\n",
    "        print(\"{} has the highest Human Development Index\".format(d[1]))\n",
    "    if d[2] == lowest_HDI:\n",
    "        print(\"{} has the lowest Human Development Index\".format(d[1]))"
   ]
  },
  {
   "cell_type": "code",
   "execution_count": 141,
   "metadata": {
    "collapsed": false
   },
   "outputs": [
    {
     "name": "stdout",
     "output_type": "stream",
     "text": [
      "Liechtenstein has increased the most by 0.9079999999999999\n"
     ]
    }
   ],
   "source": [
    "import ast\n",
    "#Which country has raised its HDI the most, in the period 1990 to 2014?\n",
    "filename2 = './historical_index.csv'\n",
    "\n",
    "array_of_stats = pd.read_csv(filename2)\n",
    "array_of_stats\n",
    "\n",
    "growth = []\n",
    "my_array = []\n",
    "dd = array_of_stats.as_matrix()\n",
    "for d in dd:\n",
    "    if d[2] == '..' or d[3] == '..':\n",
    "        d2 = 0\n",
    "        result = d[8] - d2\n",
    "        growth.append(result)\n",
    "        my_array.append(d[1])\n",
    "        my_array.append(result)\n",
    "    else:\n",
    "        d2 = ast.literal_eval(d[2])\n",
    "        result = d[8] - d2\n",
    "        growth.append(result)\n",
    "        my_array.append(d[1])\n",
    "        my_array.append(result)\n",
    "highest_increase = np.max(growth)\n",
    "for e in my_array:\n",
    "    if e == highest_increase:\n",
    "        country = my_array.index(highest_increase) - 1\n",
    "        print(\"{} has increased the most by {}\".format(my_array[country], highest_increase))"
   ]
  },
  {
   "cell_type": "code",
   "execution_count": 142,
   "metadata": {
    "collapsed": false
   },
   "outputs": [
    {
     "name": "stdout",
     "output_type": "stream",
     "text": [
      "Canada has 1 satelites for military use\n",
      "China has 34 satelites for military use\n",
      "France has 8 satelites for military use\n",
      "France/Italy has 1 satelites for military use\n",
      "France/Italy/Belgium/Spain/Greece has 2 satelites for military use\n",
      "Germany has 7 satelites for military use\n",
      "India has 4 satelites for military use\n",
      "Israel has 5 satelites for military use\n",
      "Italy has 1 satelites for military use\n",
      "Russia has 54 satelites for military use\n",
      "South Africa has 1 satelites for military use\n",
      "Spain has 1 satelites for military use\n",
      "Turkey has 1 satelites for military use\n",
      "USA has 114 satelites for military use\n",
      "United Kingdom has 8 satelites for military use\n"
     ]
    }
   ],
   "source": [
    "#Which country has the most satelites for military usage?\n",
    "\n",
    "filename2 = './database.csv'\n",
    "\n",
    "array_of_stats = pd.read_csv(filename2)\n",
    "array_of_stats\n",
    "\n",
    "dd = array_of_stats.as_matrix()\n",
    "military = []\n",
    "for d in dd:\n",
    "    if d[4] == 'Military':\n",
    "        military.append(d)\n",
    "military = np.array(military)\n",
    "countries = np.unique(military[:,3])\n",
    "my_array = []\n",
    "for c in countries:\n",
    "    for m in military:\n",
    "        if m[3] == c:\n",
    "            my_array.append(m)\n",
    "    my_array_size = len(my_array)\n",
    "    my_array = []\n",
    "    print(\"{} has {} satelites for military use\".format(c, my_array_size))"
   ]
  },
  {
   "cell_type": "code",
   "execution_count": 182,
   "metadata": {
    "collapsed": false
   },
   "outputs": [
    {
     "data": {
      "text/plain": [
       "array(['1800', '1700', '1730', '1800', '1555', '1530', '197', '3370',\n",
       "       '2000', '2778', '1600', '907', '2,316 (BOL)', '918', '1600', '1600',\n",
       "       '2500', '2500', '912', '919', '2000', '646', '2950', '3805', '12',\n",
       "       '12', '12', '12', '12', '12', '12', '12', '12', '726', '1418',\n",
       "       '1700', '1500', '2500', '2275', '1530', '1700', '1800',\n",
       "       '3,010 (BOL)', '2300', '2,500 (BOL)', '1400', '2000', '700', '2660',\n",
       "       '750', '1438', '1487', '2300', '1900', '1900', '1900', '1900',\n",
       "       '1900', '1900', '155', '1493', '77', '110', '1,050 (BOL)',\n",
       "       '1,050 (BOL)', '1,050 (BOL)', '975', '110', '1450', '395', '1',\n",
       "       '3700', '2364', '2304', '2100', '3640', '3500', '2364', '823',\n",
       "       '823', '825', '825', '825', '1500', '884', '884', '884', '884',\n",
       "       '884', '884', '2000', '3223', '3228', '1700', '2200', '2500',\n",
       "       '2832', '1900', '2310', '2317', '2300', '1550', '1300', '1900',\n",
       "       '1375', '1380', '1700', '2060', '1805', '2000', '1368', '1900',\n",
       "       '1740', '2240', '2338', '3200', '12', '6', '1100', '620', '620',\n",
       "       '620', '620', '1884', '631', '41', '2775', '800', '2630', '2873',\n",
       "       '660', '660', '2500', '350', '350', '350', '350', '350', '350',\n",
       "       '350', '350', '350', '350', '350', '350', '350', '350', '350',\n",
       "       '350', '350', '350', '350', '350', '350', '350', '1533', '1533',\n",
       "       '2180', '445', '445', '1493', '559', '980', '1426', '600', '600',\n",
       "       '1,500-1,900', '1,500-1,900', '1300', '530', '1304', '1382', '2175',\n",
       "       '1532', '860', '860', '860', '860', '895', '3750', '3360', '1348',\n",
       "       '1050', '1335', '3414', '2,510 (BOL)', '1729', '2517', '2393',\n",
       "       '3000', '2989', '3600', '1503', '1841', '2519', '1450', '1450',\n",
       "       '2100', '2200', '2,389 (BOL)', '1972', '1972', '1972', '2350',\n",
       "       '1984', '1955', '1973', '1150', '1283', '556', '556', '556', '556',\n",
       "       '556', '556', '556', '556', '556', '556', '556', '556', '556',\n",
       "       '556', '556', '556', '556', '556', '556', '556', '556', '556',\n",
       "       '556', '556', '556', '556', '556', '556', '556', '556', '556',\n",
       "       '556', '556', '556', '556', '556', '556', '556', '556', '556',\n",
       "       '556', '556', '556', '556', '556', '556', '556', '556', '556',\n",
       "       '556', '556', '556', '556', '556', '556', '556', '556', '556',\n",
       "       '556', '556', '556', '556', '556', '556', '556', '556', '556',\n",
       "       '556', '556', '556', '614', '615', '598', '598', '598', '598',\n",
       "       '598', '510', '510', '1858', '1669', '1308', '1460', '1230', '500',\n",
       "       '10000', '10000', '10000', '2450', '1150', '2200', '1512', '12',\n",
       "       '12', '950', '950', '650', '3220', '4000', '4000', '1200', '320',\n",
       "       '1000', '1000', '3750', '53', '1330', '1330', '1250', '3812', '15',\n",
       "       '15', '660', '980', '980', '980', '980', '980', '980', '980', '980',\n",
       "       '980', '980', '980', '980', '980', '980', '980', '980', '810',\n",
       "       '1700', '1700', ' ', '1500', '1500', '2000', '5624', '2000', '2600',\n",
       "       '2500', '2200', '1014', '800', '170', '2000', '1582', '22', '22',\n",
       "       '22', '22', '22', '22', '22', '22', '22', '22', '22', '22', '22',\n",
       "       '22', '22', '22', '22', '22', '22', '22', '22', '22', '22', '22',\n",
       "       '22', '2100', '1740', '10', '150', '150', '150', '150', '150',\n",
       "       '1390', '55', '478', '478', '478', '35', '1650', '48', '2146',\n",
       "       '2146', '2146', '2146', '2561', '2835', '1263', '1570', '1570',\n",
       "       '1570', '2975', '850', '759', '830', '2170', '2170', '3200', '630',\n",
       "       '290', '3655', '3691', '3691', '1467', '1750', '1750', '1402',\n",
       "       '1100', '1100', '2160', '369', '369', '369', '1650', '1658', '478',\n",
       "       '1600', '1600', '1600', '1600', '1600', '1600', '1600', '1600',\n",
       "       '1600', '260', '1,700 (BOL)', '899', '1900', '2150', '2500', '1220',\n",
       "       '77', '77', '77', '670', '646', '3200', '7', '1850', '1272', '1540',\n",
       "       '1545', '1545', '1545', '1545', '1545', '1545', '3450', '3450',\n",
       "       '3450', '3450', '3450', '3450', '3450', '1995', '3233', '1412'], dtype=object)"
      ]
     },
     "execution_count": 182,
     "metadata": {},
     "output_type": "execute_result"
    }
   ],
   "source": [
    "#Wich country has the lightest satelite and how much does it weight?\n",
    "dd = pd.DataFrame(dd).fillna(0.0)\n",
    "dd = np.array(dd)\n",
    "new_array = []\n",
    "\n",
    "\n",
    "\n",
    "for d in dd:\n",
    "    if d[16] == 0.0:\n",
    "        pass\n",
    "    else:\n",
    "        new_array.append(d)\n",
    "new_array = np.array(new_array)\n",
    "#pd.DataFrame(new_array)\n",
    "n = new_array[:,16]\n",
    "n"
   ]
  },
  {
   "cell_type": "code",
   "execution_count": 183,
   "metadata": {
    "collapsed": false
   },
   "outputs": [
    {
     "ename": "ValueError",
     "evalue": "could not convert string to float: '1,700 (BOL)'",
     "output_type": "error",
     "traceback": [
      "\u001b[0;31m---------------------------------------------------------------------------\u001b[0m",
      "\u001b[0;31mValueError\u001b[0m                                Traceback (most recent call last)",
      "\u001b[0;32m<ipython-input-183-9cefb27bd418>\u001b[0m in \u001b[0;36m<module>\u001b[0;34m()\u001b[0m\n\u001b[1;32m      3\u001b[0m \u001b[1;33m\u001b[0m\u001b[0m\n\u001b[1;32m      4\u001b[0m \u001b[1;31m#squares = [x ** 2 for x in range(1,6)]  # [1, 4, 9, 16, 25]\u001b[0m\u001b[1;33m\u001b[0m\u001b[1;33m\u001b[0m\u001b[0m\n\u001b[0;32m----> 5\u001b[0;31m \u001b[0mplt\u001b[0m\u001b[1;33m.\u001b[0m\u001b[0mplot\u001b[0m\u001b[1;33m(\u001b[0m\u001b[0mn\u001b[0m\u001b[1;33m)\u001b[0m\u001b[1;33m\u001b[0m\u001b[0m\n\u001b[0m\u001b[1;32m      6\u001b[0m \u001b[0mplt\u001b[0m\u001b[1;33m.\u001b[0m\u001b[0mshow\u001b[0m\u001b[1;33m(\u001b[0m\u001b[1;33m)\u001b[0m\u001b[1;33m\u001b[0m\u001b[0m\n",
      "\u001b[0;32mC:\\Users\\matyasfeher\\Anaconda3\\lib\\site-packages\\matplotlib\\pyplot.py\u001b[0m in \u001b[0;36mplot\u001b[0;34m(*args, **kwargs)\u001b[0m\n\u001b[1;32m   3316\u001b[0m                       mplDeprecation)\n\u001b[1;32m   3317\u001b[0m     \u001b[1;32mtry\u001b[0m\u001b[1;33m:\u001b[0m\u001b[1;33m\u001b[0m\u001b[0m\n\u001b[0;32m-> 3318\u001b[0;31m         \u001b[0mret\u001b[0m \u001b[1;33m=\u001b[0m \u001b[0max\u001b[0m\u001b[1;33m.\u001b[0m\u001b[0mplot\u001b[0m\u001b[1;33m(\u001b[0m\u001b[1;33m*\u001b[0m\u001b[0margs\u001b[0m\u001b[1;33m,\u001b[0m \u001b[1;33m**\u001b[0m\u001b[0mkwargs\u001b[0m\u001b[1;33m)\u001b[0m\u001b[1;33m\u001b[0m\u001b[0m\n\u001b[0m\u001b[1;32m   3319\u001b[0m     \u001b[1;32mfinally\u001b[0m\u001b[1;33m:\u001b[0m\u001b[1;33m\u001b[0m\u001b[0m\n\u001b[1;32m   3320\u001b[0m         \u001b[0max\u001b[0m\u001b[1;33m.\u001b[0m\u001b[0m_hold\u001b[0m \u001b[1;33m=\u001b[0m \u001b[0mwashold\u001b[0m\u001b[1;33m\u001b[0m\u001b[0m\n",
      "\u001b[0;32mC:\\Users\\matyasfeher\\Anaconda3\\lib\\site-packages\\matplotlib\\__init__.py\u001b[0m in \u001b[0;36minner\u001b[0;34m(ax, *args, **kwargs)\u001b[0m\n\u001b[1;32m   1889\u001b[0m                     warnings.warn(msg % (label_namer, func.__name__),\n\u001b[1;32m   1890\u001b[0m                                   RuntimeWarning, stacklevel=2)\n\u001b[0;32m-> 1891\u001b[0;31m             \u001b[1;32mreturn\u001b[0m \u001b[0mfunc\u001b[0m\u001b[1;33m(\u001b[0m\u001b[0max\u001b[0m\u001b[1;33m,\u001b[0m \u001b[1;33m*\u001b[0m\u001b[0margs\u001b[0m\u001b[1;33m,\u001b[0m \u001b[1;33m**\u001b[0m\u001b[0mkwargs\u001b[0m\u001b[1;33m)\u001b[0m\u001b[1;33m\u001b[0m\u001b[0m\n\u001b[0m\u001b[1;32m   1892\u001b[0m         \u001b[0mpre_doc\u001b[0m \u001b[1;33m=\u001b[0m \u001b[0minner\u001b[0m\u001b[1;33m.\u001b[0m\u001b[0m__doc__\u001b[0m\u001b[1;33m\u001b[0m\u001b[0m\n\u001b[1;32m   1893\u001b[0m         \u001b[1;32mif\u001b[0m \u001b[0mpre_doc\u001b[0m \u001b[1;32mis\u001b[0m \u001b[1;32mNone\u001b[0m\u001b[1;33m:\u001b[0m\u001b[1;33m\u001b[0m\u001b[0m\n",
      "\u001b[0;32mC:\\Users\\matyasfeher\\Anaconda3\\lib\\site-packages\\matplotlib\\axes\\_axes.py\u001b[0m in \u001b[0;36mplot\u001b[0;34m(self, *args, **kwargs)\u001b[0m\n\u001b[1;32m   1405\u001b[0m \u001b[1;33m\u001b[0m\u001b[0m\n\u001b[1;32m   1406\u001b[0m         \u001b[1;32mfor\u001b[0m \u001b[0mline\u001b[0m \u001b[1;32min\u001b[0m \u001b[0mself\u001b[0m\u001b[1;33m.\u001b[0m\u001b[0m_get_lines\u001b[0m\u001b[1;33m(\u001b[0m\u001b[1;33m*\u001b[0m\u001b[0margs\u001b[0m\u001b[1;33m,\u001b[0m \u001b[1;33m**\u001b[0m\u001b[0mkwargs\u001b[0m\u001b[1;33m)\u001b[0m\u001b[1;33m:\u001b[0m\u001b[1;33m\u001b[0m\u001b[0m\n\u001b[0;32m-> 1407\u001b[0;31m             \u001b[0mself\u001b[0m\u001b[1;33m.\u001b[0m\u001b[0madd_line\u001b[0m\u001b[1;33m(\u001b[0m\u001b[0mline\u001b[0m\u001b[1;33m)\u001b[0m\u001b[1;33m\u001b[0m\u001b[0m\n\u001b[0m\u001b[1;32m   1408\u001b[0m             \u001b[0mlines\u001b[0m\u001b[1;33m.\u001b[0m\u001b[0mappend\u001b[0m\u001b[1;33m(\u001b[0m\u001b[0mline\u001b[0m\u001b[1;33m)\u001b[0m\u001b[1;33m\u001b[0m\u001b[0m\n\u001b[1;32m   1409\u001b[0m \u001b[1;33m\u001b[0m\u001b[0m\n",
      "\u001b[0;32mC:\\Users\\matyasfeher\\Anaconda3\\lib\\site-packages\\matplotlib\\axes\\_base.py\u001b[0m in \u001b[0;36madd_line\u001b[0;34m(self, line)\u001b[0m\n\u001b[1;32m   1785\u001b[0m             \u001b[0mline\u001b[0m\u001b[1;33m.\u001b[0m\u001b[0mset_clip_path\u001b[0m\u001b[1;33m(\u001b[0m\u001b[0mself\u001b[0m\u001b[1;33m.\u001b[0m\u001b[0mpatch\u001b[0m\u001b[1;33m)\u001b[0m\u001b[1;33m\u001b[0m\u001b[0m\n\u001b[1;32m   1786\u001b[0m \u001b[1;33m\u001b[0m\u001b[0m\n\u001b[0;32m-> 1787\u001b[0;31m         \u001b[0mself\u001b[0m\u001b[1;33m.\u001b[0m\u001b[0m_update_line_limits\u001b[0m\u001b[1;33m(\u001b[0m\u001b[0mline\u001b[0m\u001b[1;33m)\u001b[0m\u001b[1;33m\u001b[0m\u001b[0m\n\u001b[0m\u001b[1;32m   1788\u001b[0m         \u001b[1;32mif\u001b[0m \u001b[1;32mnot\u001b[0m \u001b[0mline\u001b[0m\u001b[1;33m.\u001b[0m\u001b[0mget_label\u001b[0m\u001b[1;33m(\u001b[0m\u001b[1;33m)\u001b[0m\u001b[1;33m:\u001b[0m\u001b[1;33m\u001b[0m\u001b[0m\n\u001b[1;32m   1789\u001b[0m             \u001b[0mline\u001b[0m\u001b[1;33m.\u001b[0m\u001b[0mset_label\u001b[0m\u001b[1;33m(\u001b[0m\u001b[1;34m'_line%d'\u001b[0m \u001b[1;33m%\u001b[0m \u001b[0mlen\u001b[0m\u001b[1;33m(\u001b[0m\u001b[0mself\u001b[0m\u001b[1;33m.\u001b[0m\u001b[0mlines\u001b[0m\u001b[1;33m)\u001b[0m\u001b[1;33m)\u001b[0m\u001b[1;33m\u001b[0m\u001b[0m\n",
      "\u001b[0;32mC:\\Users\\matyasfeher\\Anaconda3\\lib\\site-packages\\matplotlib\\axes\\_base.py\u001b[0m in \u001b[0;36m_update_line_limits\u001b[0;34m(self, line)\u001b[0m\n\u001b[1;32m   1807\u001b[0m         \u001b[0mFigures\u001b[0m \u001b[0mout\u001b[0m \u001b[0mthe\u001b[0m \u001b[0mdata\u001b[0m \u001b[0mlimit\u001b[0m \u001b[0mof\u001b[0m \u001b[0mthe\u001b[0m \u001b[0mgiven\u001b[0m \u001b[0mline\u001b[0m\u001b[1;33m,\u001b[0m \u001b[0mupdating\u001b[0m \u001b[0mself\u001b[0m\u001b[1;33m.\u001b[0m\u001b[0mdataLim\u001b[0m\u001b[1;33m.\u001b[0m\u001b[1;33m\u001b[0m\u001b[0m\n\u001b[1;32m   1808\u001b[0m         \"\"\"\n\u001b[0;32m-> 1809\u001b[0;31m         \u001b[0mpath\u001b[0m \u001b[1;33m=\u001b[0m \u001b[0mline\u001b[0m\u001b[1;33m.\u001b[0m\u001b[0mget_path\u001b[0m\u001b[1;33m(\u001b[0m\u001b[1;33m)\u001b[0m\u001b[1;33m\u001b[0m\u001b[0m\n\u001b[0m\u001b[1;32m   1810\u001b[0m         \u001b[1;32mif\u001b[0m \u001b[0mpath\u001b[0m\u001b[1;33m.\u001b[0m\u001b[0mvertices\u001b[0m\u001b[1;33m.\u001b[0m\u001b[0msize\u001b[0m \u001b[1;33m==\u001b[0m \u001b[1;36m0\u001b[0m\u001b[1;33m:\u001b[0m\u001b[1;33m\u001b[0m\u001b[0m\n\u001b[1;32m   1811\u001b[0m             \u001b[1;32mreturn\u001b[0m\u001b[1;33m\u001b[0m\u001b[0m\n",
      "\u001b[0;32mC:\\Users\\matyasfeher\\Anaconda3\\lib\\site-packages\\matplotlib\\lines.py\u001b[0m in \u001b[0;36mget_path\u001b[0;34m(self)\u001b[0m\n\u001b[1;32m    987\u001b[0m         \"\"\"\n\u001b[1;32m    988\u001b[0m         \u001b[1;32mif\u001b[0m \u001b[0mself\u001b[0m\u001b[1;33m.\u001b[0m\u001b[0m_invalidy\u001b[0m \u001b[1;32mor\u001b[0m \u001b[0mself\u001b[0m\u001b[1;33m.\u001b[0m\u001b[0m_invalidx\u001b[0m\u001b[1;33m:\u001b[0m\u001b[1;33m\u001b[0m\u001b[0m\n\u001b[0;32m--> 989\u001b[0;31m             \u001b[0mself\u001b[0m\u001b[1;33m.\u001b[0m\u001b[0mrecache\u001b[0m\u001b[1;33m(\u001b[0m\u001b[1;33m)\u001b[0m\u001b[1;33m\u001b[0m\u001b[0m\n\u001b[0m\u001b[1;32m    990\u001b[0m         \u001b[1;32mreturn\u001b[0m \u001b[0mself\u001b[0m\u001b[1;33m.\u001b[0m\u001b[0m_path\u001b[0m\u001b[1;33m\u001b[0m\u001b[0m\n\u001b[1;32m    991\u001b[0m \u001b[1;33m\u001b[0m\u001b[0m\n",
      "\u001b[0;32mC:\\Users\\matyasfeher\\Anaconda3\\lib\\site-packages\\matplotlib\\lines.py\u001b[0m in \u001b[0;36mrecache\u001b[0;34m(self, always)\u001b[0m\n\u001b[1;32m    683\u001b[0m                 \u001b[0my\u001b[0m \u001b[1;33m=\u001b[0m \u001b[0mma\u001b[0m\u001b[1;33m.\u001b[0m\u001b[0masarray\u001b[0m\u001b[1;33m(\u001b[0m\u001b[0myconv\u001b[0m\u001b[1;33m,\u001b[0m \u001b[0mnp\u001b[0m\u001b[1;33m.\u001b[0m\u001b[0mfloat_\u001b[0m\u001b[1;33m)\u001b[0m\u001b[1;33m.\u001b[0m\u001b[0mfilled\u001b[0m\u001b[1;33m(\u001b[0m\u001b[0mnp\u001b[0m\u001b[1;33m.\u001b[0m\u001b[0mnan\u001b[0m\u001b[1;33m)\u001b[0m\u001b[1;33m\u001b[0m\u001b[0m\n\u001b[1;32m    684\u001b[0m             \u001b[1;32melse\u001b[0m\u001b[1;33m:\u001b[0m\u001b[1;33m\u001b[0m\u001b[0m\n\u001b[0;32m--> 685\u001b[0;31m                 \u001b[0my\u001b[0m \u001b[1;33m=\u001b[0m \u001b[0mnp\u001b[0m\u001b[1;33m.\u001b[0m\u001b[0masarray\u001b[0m\u001b[1;33m(\u001b[0m\u001b[0myconv\u001b[0m\u001b[1;33m,\u001b[0m \u001b[0mnp\u001b[0m\u001b[1;33m.\u001b[0m\u001b[0mfloat_\u001b[0m\u001b[1;33m)\u001b[0m\u001b[1;33m\u001b[0m\u001b[0m\n\u001b[0m\u001b[1;32m    686\u001b[0m             \u001b[0my\u001b[0m \u001b[1;33m=\u001b[0m \u001b[0my\u001b[0m\u001b[1;33m.\u001b[0m\u001b[0mravel\u001b[0m\u001b[1;33m(\u001b[0m\u001b[1;33m)\u001b[0m\u001b[1;33m\u001b[0m\u001b[0m\n\u001b[1;32m    687\u001b[0m         \u001b[1;32melse\u001b[0m\u001b[1;33m:\u001b[0m\u001b[1;33m\u001b[0m\u001b[0m\n",
      "\u001b[0;32mC:\\Users\\matyasfeher\\Anaconda3\\lib\\site-packages\\numpy\\core\\numeric.py\u001b[0m in \u001b[0;36masarray\u001b[0;34m(a, dtype, order)\u001b[0m\n\u001b[1;32m    480\u001b[0m \u001b[1;33m\u001b[0m\u001b[0m\n\u001b[1;32m    481\u001b[0m     \"\"\"\n\u001b[0;32m--> 482\u001b[0;31m     \u001b[1;32mreturn\u001b[0m \u001b[0marray\u001b[0m\u001b[1;33m(\u001b[0m\u001b[0ma\u001b[0m\u001b[1;33m,\u001b[0m \u001b[0mdtype\u001b[0m\u001b[1;33m,\u001b[0m \u001b[0mcopy\u001b[0m\u001b[1;33m=\u001b[0m\u001b[1;32mFalse\u001b[0m\u001b[1;33m,\u001b[0m \u001b[0morder\u001b[0m\u001b[1;33m=\u001b[0m\u001b[0morder\u001b[0m\u001b[1;33m)\u001b[0m\u001b[1;33m\u001b[0m\u001b[0m\n\u001b[0m\u001b[1;32m    483\u001b[0m \u001b[1;33m\u001b[0m\u001b[0m\n\u001b[1;32m    484\u001b[0m \u001b[1;32mdef\u001b[0m \u001b[0masanyarray\u001b[0m\u001b[1;33m(\u001b[0m\u001b[0ma\u001b[0m\u001b[1;33m,\u001b[0m \u001b[0mdtype\u001b[0m\u001b[1;33m=\u001b[0m\u001b[1;32mNone\u001b[0m\u001b[1;33m,\u001b[0m \u001b[0morder\u001b[0m\u001b[1;33m=\u001b[0m\u001b[1;32mNone\u001b[0m\u001b[1;33m)\u001b[0m\u001b[1;33m:\u001b[0m\u001b[1;33m\u001b[0m\u001b[0m\n",
      "\u001b[0;31mValueError\u001b[0m: could not convert string to float: '1,700 (BOL)'"
     ]
    }
   ],
   "source": [
    "#Compare the usage of satelites, between the 5 poorest countries and the 5 welthiest countries, according to the HDI dataset (see first dataset), plotting optional.\n",
    "import matplotlib.pyplot as plt\n",
    "\n",
    "#squares = [x ** 2 for x in range(1,6)]  # [1, 4, 9, 16, 25]\n",
    "plt.plot(n)\n",
    "plt.show()"
   ]
  }
 ],
 "metadata": {
  "kernelspec": {
   "display_name": "Python 3",
   "language": "python",
   "name": "python3"
  },
  "language_info": {
   "codemirror_mode": {
    "name": "ipython",
    "version": 3
   },
   "file_extension": ".py",
   "mimetype": "text/x-python",
   "name": "python",
   "nbconvert_exporter": "python",
   "pygments_lexer": "ipython3",
   "version": "3.6.0"
  }
 },
 "nbformat": 4,
 "nbformat_minor": 2
}
