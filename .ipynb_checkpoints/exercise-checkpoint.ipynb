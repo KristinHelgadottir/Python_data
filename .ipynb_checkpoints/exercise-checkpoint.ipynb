{
 "cells": [
  {
   "cell_type": "code",
   "execution_count": 5,
   "metadata": {
    "collapsed": false
   },
   "outputs": [
    {
     "data": {
      "text/plain": [
       "array([[1.0, 'Norway', 0.9440000000000001, ..., 12.6, '64,992', 5.0],\n",
       "       [2.0, 'Australia', 0.935, ..., 13.0, '42,261', 17.0],\n",
       "       [3.0, 'Switzerland', 0.93, ..., 12.8, '56,431', 6.0],\n",
       "       ..., \n",
       "       [nan, 'South Asia', 0.607, ..., 5.5, '5,605', nan],\n",
       "       [nan, 'Sub-Saharan Africa', 0.518, ..., 5.2, '3,363', nan],\n",
       "       [nan, 'World', 0.711, ..., 7.9, '14,301', nan]], dtype=object)"
      ]
     },
     "execution_count": 5,
     "metadata": {},
     "output_type": "execute_result"
    }
   ],
   "source": [
    "import os \n",
    "import pprint\n",
    "import csv\n",
    "import pandas as pd\n",
    "import numpy as np\n",
    "\n",
    "filename = './human_development.csv'\n",
    "\n",
    "array_of_stats = pd.read_csv(filename)\n",
    "array_of_stats\n",
    "\n",
    "\n",
    "dd = array_of_stats.as_matrix()"
   ]
  },
  {
   "cell_type": "code",
   "execution_count": 23,
   "metadata": {
    "collapsed": false
   },
   "outputs": [
    {
     "name": "stdout",
     "output_type": "stream",
     "text": [
      "0.9440000000000001\n",
      "0.348\n",
      "Norway has the highest Human Development Index\n",
      "Niger has the lowest Human Development Index\n"
     ]
    }
   ],
   "source": [
    "#Which country has the highest HDI (Human Development Index) and which has the lowest?\n",
    "highest_HDI = np.max(dd[:,2])\n",
    "print(highest_HDI)\n",
    "lowest_HDI = np.min(dd[:,2])\n",
    "print(lowest_HDI)\n",
    "\n",
    "for d in dd:\n",
    "    if d[2] == highest_HDI:\n",
    "        print(\"{} has the highest Human Development Index\".format(d[1]))\n",
    "    if d[2] == lowest_HDI:\n",
    "        print(\"{} has the lowest Human Development Index\".format(d[1]))"
   ]
  },
  {
   "cell_type": "code",
   "execution_count": 33,
   "metadata": {
    "collapsed": false
   },
   "outputs": [
    {
     "name": "stdout",
     "output_type": "stream",
     "text": [
      "0.09500000000000008\n",
      "0.07000000000000006\n",
      "0.09900000000000009\n",
      "0.12399999999999989\n",
      "0.09300000000000008\n",
      "0.11499999999999988\n",
      "0.1459999999999999\n",
      "0.05600000000000005\n",
      "0.06399999999999995\n",
      "0.09299999999999997\n",
      "0.19400000000000006\n",
      "0.129\n"
     ]
    },
    {
     "ename": "SyntaxError",
     "evalue": "unexpected EOF while parsing (<unknown>, line 1)",
     "output_type": "error",
     "traceback": [
      "\u001b[0;36m  File \u001b[0;32m\"<unknown>\"\u001b[0;36m, line \u001b[0;32m1\u001b[0m\n\u001b[0;31m    ..\u001b[0m\n\u001b[0m    ^\u001b[0m\n\u001b[0;31mSyntaxError\u001b[0m\u001b[0;31m:\u001b[0m unexpected EOF while parsing\n"
     ]
    }
   ],
   "source": [
    "import ast\n",
    "#Which country has raised its HDI the most, in the period 1990 to 2014?\n",
    "filename2 = './historical_index.csv'\n",
    "\n",
    "array_of_stats = pd.read_csv(filename2)\n",
    "array_of_stats\n",
    "\n",
    "\n",
    "dd = array_of_stats.as_matrix()\n",
    "for d in dd:\n",
    "    d2 = ast.literal_eval(d[2])\n",
    "    result = d[8] - d2\n",
    "    print(result)"
   ]
  }
 ],
 "metadata": {
  "kernelspec": {
   "display_name": "Python 3",
   "language": "python",
   "name": "python3"
  },
  "language_info": {
   "codemirror_mode": {
    "name": "ipython",
    "version": 3
   },
   "file_extension": ".py",
   "mimetype": "text/x-python",
   "name": "python",
   "nbconvert_exporter": "python",
   "pygments_lexer": "ipython3",
   "version": "3.6.0"
  }
 },
 "nbformat": 4,
 "nbformat_minor": 2
}
