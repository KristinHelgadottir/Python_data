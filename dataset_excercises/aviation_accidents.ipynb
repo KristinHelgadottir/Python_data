{
 "cells": [
  {
   "cell_type": "code",
   "execution_count": 2,
   "metadata": {
    "collapsed": false,
    "deletable": true,
    "editable": true
   },
   "outputs": [
    {
     "name": "stdout",
     "output_type": "stream",
     "text": [
      "0 Event.Id\n",
      "1 Investigation.Type\n",
      "2 Accident.Number\n",
      "3 Event.Date\n",
      "4 Location\n",
      "5 Country\n",
      "6 Latitude\n",
      "7 Longitude\n",
      "8 Airport.Code\n",
      "9 Airport.Name\n",
      "10 Injury.Severity\n",
      "11 Aircraft.Damage\n",
      "12 Aircraft.Category\n",
      "13 Registration.Number\n",
      "14 Make\n",
      "15 Model\n",
      "16 Amateur.Built\n",
      "17 Number.of.Engines\n",
      "18 Engine.Type\n",
      "19 FAR.Description\n",
      "20 Schedule\n",
      "21 Purpose.of.Flight\n",
      "22 Air.Carrier\n",
      "23 Total.Fatal.Injuries\n",
      "24 Total.Serious.Injuries\n",
      "25 Total.Minor.Injuries\n",
      "26 Total.Uninjured\n",
      "27 Weather.Condition\n",
      "28 Broad.Phase.of.Flight\n",
      "29 Report.Status\n",
      "30 Publication.Date\n"
     ]
    }
   ],
   "source": [
    "# importing libraries\n",
    "import webget, pandas as pd, matplotlib.pyplot as plt, numpy as np\n",
    "import csv, os, collections as col\n",
    "from urllib.parse import urlparse\n",
    "\n",
    "file = \"AviationDataset.csv\"\n",
    "\n",
    "with open(file) as file_object: # opening the csv\n",
    "    reader = csv.reader(file_object) # returns reader object that reads lines in file\n",
    "    header_row = next(reader) # first getting the headers line and so-on/next line\n",
    "\n",
    "    for i, v in enumerate(header_row): # starting from headers row returns a tuple containing a count \n",
    "        print(i, v)\n"
   ]
  },
  {
   "cell_type": "code",
   "execution_count": 3,
   "metadata": {
    "collapsed": false,
    "deletable": true,
    "editable": true
   },
   "outputs": [],
   "source": [
    "database = pd.read_csv(file)\n",
    "\n",
    "def nan_to_0(database):\n",
    "    return database.fillna(0.0)\n",
    "\n",
    "no_nan_data = nan_to_0(database)\n",
    "data = np.array(no_nan_data)\n",
    "# database # prints the table"
   ]
  },
  {
   "cell_type": "code",
   "execution_count": 39,
   "metadata": {
    "collapsed": false,
    "deletable": true,
    "editable": true
   },
   "outputs": [],
   "source": [
    "# 1.How do the flight phases contribute to fatalities? Chart!\n",
    "%matplotlib inline\n",
    "col28 = data[:, 28]\n",
    "col23 = data[:, 23]\n",
    "\n",
    "fatal = []\n",
    "for el in col23:\n",
    "    if el != 0.0:\n",
    "        fatal.append(el)\n",
    "    else:\n",
    "        pass\n",
    "\n",
    "phase = []\n",
    "for e in col28:\n",
    "    if e != 0.0:\n",
    "        phase.append(e)\n",
    "    else:\n",
    "        pass\n",
    "\n"
   ]
  },
  {
   "cell_type": "code",
   "execution_count": 37,
   "metadata": {
    "collapsed": false,
    "deletable": true,
    "editable": true
   },
   "outputs": [
    {
     "name": "stdout",
     "output_type": "stream",
     "text": [
      "Most injuries in the US where in these 5 locations:\n"
     ]
    },
    {
     "ename": "AssertionError",
     "evalue": "incompatible sizes: argument 'height' must be length 79293 or scalar",
     "output_type": "error",
     "traceback": [
      "\u001b[0;31m---------------------------------------------------------------------------\u001b[0m",
      "\u001b[0;31mAssertionError\u001b[0m                            Traceback (most recent call last)",
      "\u001b[0;32m<ipython-input-37-7936003b57be>\u001b[0m in \u001b[0;36m<module>\u001b[0;34m()\u001b[0m\n\u001b[1;32m     25\u001b[0m \u001b[0mprint\u001b[0m\u001b[0;34m(\u001b[0m\u001b[0;34m\"Most injuries in the US where in these 5 locations:\"\u001b[0m\u001b[0;34m)\u001b[0m\u001b[0;34m\u001b[0m\u001b[0m\n\u001b[1;32m     26\u001b[0m \u001b[0;34m\u001b[0m\u001b[0m\n\u001b[0;32m---> 27\u001b[0;31m \u001b[0mplt\u001b[0m\u001b[0;34m.\u001b[0m\u001b[0mbar\u001b[0m\u001b[0;34m(\u001b[0m\u001b[0mminor\u001b[0m\u001b[0;34m,\u001b[0m \u001b[0mlocation\u001b[0m\u001b[0;34m,\u001b[0m \u001b[0mwidth\u001b[0m\u001b[0;34m=\u001b[0m\u001b[0;36m0.5\u001b[0m\u001b[0;34m,\u001b[0m \u001b[0mlinewidth\u001b[0m\u001b[0;34m=\u001b[0m\u001b[0;36m1\u001b[0m\u001b[0;34m,\u001b[0m \u001b[0malign\u001b[0m\u001b[0;34m=\u001b[0m\u001b[0;34m'center'\u001b[0m\u001b[0;34m)\u001b[0m\u001b[0;34m\u001b[0m\u001b[0m\n\u001b[0m\u001b[1;32m     28\u001b[0m \u001b[0mplt\u001b[0m\u001b[0;34m.\u001b[0m\u001b[0maxis\u001b[0m\u001b[0;34m(\u001b[0m\u001b[0;34m[\u001b[0m\u001b[0;36m0\u001b[0m\u001b[0;34m,\u001b[0m \u001b[0mmax\u001b[0m\u001b[0;34m(\u001b[0m\u001b[0mminor\u001b[0m\u001b[0;34m)\u001b[0m \u001b[0;34m+\u001b[0m \u001b[0;36m5\u001b[0m\u001b[0;34m,\u001b[0m \u001b[0;36m0\u001b[0m\u001b[0;34m,\u001b[0m \u001b[0;36m400\u001b[0m\u001b[0;34m]\u001b[0m\u001b[0;34m)\u001b[0m\u001b[0;34m\u001b[0m\u001b[0m\n\u001b[1;32m     29\u001b[0m \u001b[0mtitle\u001b[0m \u001b[0;34m=\u001b[0m \u001b[0;34m\"Minor injuries in locations\"\u001b[0m\u001b[0;34m\u001b[0m\u001b[0m\n",
      "\u001b[0;32m/usr/lib/python3/dist-packages/matplotlib/pyplot.py\u001b[0m in \u001b[0;36mbar\u001b[0;34m(left, height, width, bottom, hold, **kwargs)\u001b[0m\n\u001b[1;32m   2513\u001b[0m         \u001b[0max\u001b[0m\u001b[0;34m.\u001b[0m\u001b[0mhold\u001b[0m\u001b[0;34m(\u001b[0m\u001b[0mhold\u001b[0m\u001b[0;34m)\u001b[0m\u001b[0;34m\u001b[0m\u001b[0m\n\u001b[1;32m   2514\u001b[0m     \u001b[0;32mtry\u001b[0m\u001b[0;34m:\u001b[0m\u001b[0;34m\u001b[0m\u001b[0m\n\u001b[0;32m-> 2515\u001b[0;31m         \u001b[0mret\u001b[0m \u001b[0;34m=\u001b[0m \u001b[0max\u001b[0m\u001b[0;34m.\u001b[0m\u001b[0mbar\u001b[0m\u001b[0;34m(\u001b[0m\u001b[0mleft\u001b[0m\u001b[0;34m,\u001b[0m \u001b[0mheight\u001b[0m\u001b[0;34m,\u001b[0m \u001b[0mwidth\u001b[0m\u001b[0;34m=\u001b[0m\u001b[0mwidth\u001b[0m\u001b[0;34m,\u001b[0m \u001b[0mbottom\u001b[0m\u001b[0;34m=\u001b[0m\u001b[0mbottom\u001b[0m\u001b[0;34m,\u001b[0m \u001b[0;34m**\u001b[0m\u001b[0mkwargs\u001b[0m\u001b[0;34m)\u001b[0m\u001b[0;34m\u001b[0m\u001b[0m\n\u001b[0m\u001b[1;32m   2516\u001b[0m         \u001b[0mdraw_if_interactive\u001b[0m\u001b[0;34m(\u001b[0m\u001b[0;34m)\u001b[0m\u001b[0;34m\u001b[0m\u001b[0m\n\u001b[1;32m   2517\u001b[0m     \u001b[0;32mfinally\u001b[0m\u001b[0;34m:\u001b[0m\u001b[0;34m\u001b[0m\u001b[0m\n",
      "\u001b[0;32m/usr/lib/python3/dist-packages/matplotlib/axes.py\u001b[0m in \u001b[0;36mbar\u001b[0;34m(self, left, height, width, bottom, **kwargs)\u001b[0m\n\u001b[1;32m   4999\u001b[0m         assert len(height) == nbars, (\"incompatible sizes: argument 'height' \"\n\u001b[1;32m   5000\u001b[0m                                       \u001b[0;34m\"must be length %d or scalar\"\u001b[0m \u001b[0;34m%\u001b[0m\u001b[0;34m\u001b[0m\u001b[0m\n\u001b[0;32m-> 5001\u001b[0;31m                                       nbars)\n\u001b[0m\u001b[1;32m   5002\u001b[0m         assert len(width) == nbars, (\"incompatible sizes: argument 'width' \"\n\u001b[1;32m   5003\u001b[0m                                      \u001b[0;34m\"must be length %d or scalar\"\u001b[0m \u001b[0;34m%\u001b[0m\u001b[0;34m\u001b[0m\u001b[0m\n",
      "\u001b[0;31mAssertionError\u001b[0m: incompatible sizes: argument 'height' must be length 79293 or scalar"
     ]
    },
    {
     "data": {
      "image/png": "[encoded data removed]",
      "text/plain": [
       "<matplotlib.figure.Figure at 0x7f23df947668>"
      ]
     },
     "metadata": {},
     "output_type": "display_data"
    }
   ],
   "source": [
    "# 2.Which 5 locations saw the most injuries in the US? Barchart!\n",
    "\n",
    "col4 = data[:, 4] # location\n",
    "col5 = data[:, 5] # country\n",
    "\n",
    "location = []\n",
    "for el in col4:\n",
    "    if el != 0.0:\n",
    "        location.append(el)\n",
    "    else:\n",
    "        pass\n",
    "\n",
    "usa = []\n",
    "for e in col5:\n",
    "    if e == \"United States\":\n",
    "        usa.append(e)\n",
    "    else:\n",
    "        pass\n",
    "\n",
    "minor = data[:, 25]\n",
    "serious = data[:, 24]\n",
    "fatal.sort()\n",
    "top5 = []\n",
    "\n",
    "print(\"Most injuries in the US where in these 5 locations:\")\n",
    "\n",
    "plt.bar(minor, location, width=0.5, linewidth=1, align='center')\n",
    "plt.axis([0, max(minor) + 5, 0, 400])\n",
    "title = \"Minor injuries in locations\"\n",
    "plt.title(title, fontsize=12)\n",
    "plt.xlabel(\"Minor injuries\", fontsize=10)\n",
    "plt.ylabel(\"Location\", fontsize=10)\n",
    "plt.tick_params(axis='both', which='major', labelsize=10)\n",
    "plt.show()"
   ]
  },
  {
   "cell_type": "code",
   "execution_count": 6,
   "metadata": {
    "collapsed": false,
    "deletable": true,
    "editable": true
   },
   "outputs": [
    {
     "name": "stdout",
     "output_type": "stream",
     "text": [
      "max fatal: \n",
      "349.0\n",
      "max serious: \n",
      "111.0\n",
      "max minor: \n",
      "380.0\n"
     ]
    }
   ],
   "source": [
    "# 3.Which 5 aircraft models had the most injuries? piechart!\n",
    "\n",
    "col15 = data[:, 15]\n",
    "models = []\n",
    "for e in col15:\n",
    "    if e != 0.0:\n",
    "        models.append(e)\n",
    "    else:\n",
    "        pass\n",
    "\n",
    "print(\"max fatal: \")\n",
    "print(max(fatal))\n",
    "print(\"max serious: \")\n",
    "print(max(serious))\n",
    "print(\"max minor: \")\n",
    "print(max(minor))"
   ]
  },
  {
   "cell_type": "code",
   "execution_count": null,
   "metadata": {
    "collapsed": true,
    "deletable": true,
    "editable": true
   },
   "outputs": [],
   "source": [
    "# What was the distribution of fatal injuries during the last 20 years? \n",
    "# Show it on a barchart!"
   ]
  }
 ],
 "metadata": {
  "kernelspec": {
   "display_name": "Python 3",
   "language": "python",
   "name": "python3"
  },
  "language_info": {
   "codemirror_mode": {
    "name": "ipython",
    "version": 3
   },
   "file_extension": ".py",
   "mimetype": "text/x-python",
   "name": "python",
   "nbconvert_exporter": "python",
   "pygments_lexer": "ipython3",
   "version": "3.4.3"
  }
 },
 "nbformat": 4,
 "nbformat_minor": 2
}
