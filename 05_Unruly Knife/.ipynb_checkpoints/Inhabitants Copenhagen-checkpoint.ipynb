{
 "cells": [
  {
   "cell_type": "code",
   "execution_count": 1,
   "metadata": {
    "collapsed": false,
    "deletable": true,
    "editable": true
   },
   "outputs": [],
   "source": [
    "import webget as wg\n",
    "import pandas as pd, numpy as np, csv\n",
    "import matplotlib.pyplot as plt\n",
    "%matplotlib inline\n",
    "\n",
    "url = 'http://data.kk.dk/dataset/9070067f-ab57-41cd-913e-bc37bfaf9acd/resource/9fbab4aa-1ee0-4d25-b2b4-b7b63537d2ec/download/befkbhalderkoencivst.csv'\n",
    "filename = url.split(\"/\")[-1]\n",
    "data_set = pd.read_csv(filename)\n",
    "dd = data_set.as_matrix()\n",
    "#data_set"
   ]
  },
  {
   "cell_type": "code",
   "execution_count": 2,
   "metadata": {
    "collapsed": false
   },
   "outputs": [
    {
     "name": "stdout",
     "output_type": "stream",
     "text": [
      "Females age 18 to 30:  10733\n",
      "Males age 18 to 30:  10173\n",
      "Females age 50 and over:  49975\n",
      "Males age 50 and over:  48672\n"
     ]
    }
   ],
   "source": [
    "# 1.\n",
    "data = \"befkbhalderkoencivst.csv\"\n",
    "with open(data) as file:\n",
    "    reader = csv.reader(file)\n",
    "    head_row = next(reader)\n",
    "\n",
    "    distribution_male = {} #------------------TODO\n",
    "    distribution_female = {}\n",
    "    distribution_gent = {}\n",
    "    distribution_lady = {}\n",
    "    \n",
    "    gent = 0 # counters\n",
    "    lady = 0\n",
    "    male_age_18_30 = 0\n",
    "    female_age_18_30 = 0\n",
    "    for row in reader:\n",
    "        age = int(row[2])\n",
    "        sex = int(row[4])\n",
    "        year = int(row[0])\n",
    "\n",
    "        if age >= 18 and age <= 30:\n",
    "            if sex == 1: # male\n",
    "                male_age_18_30 += 1\n",
    "            if sex == 2: # female\n",
    "                female_age_18_30 += 1\n",
    "        if age >= 50:\n",
    "            if sex == 1:\n",
    "                gent += 1\n",
    "            if sex == 2:\n",
    "                lady += 1\n",
    "\n",
    "# show the distribution of the following four categories:\n",
    "print(\"Females age 18 to 30: \" ,female_age_18_30)\n",
    "print(\"Males age 18 to 30: \" ,male_age_18_30)\n",
    "print(\"Females age 50 and over: \"  ,lady)\n",
    "print(\"Males age 50 and over: \" ,gent)\n"
   ]
  },
  {
   "cell_type": "code",
   "execution_count": 3,
   "metadata": {
    "collapsed": false,
    "deletable": true,
    "editable": true,
    "scrolled": true
   },
   "outputs": [
    {
     "name": "stdout",
     "output_type": "stream",
     "text": [
      "total single man in Indre By, age 18 to 30: 312\n",
      "total single females in Indre By, age 18 to 30: 312\n"
     ]
    }
   ],
   "source": [
    "# 2.\n",
    "# Use matplotlib to plot a bar-char showing how many single males and females \n",
    "# of age 18 to 30, are living in BYDEL 1=Indre By, 2=Østerbro and 3=Nørrebro \n",
    "# over the time 1992 - 2015\n",
    "\n",
    "with open(data) as file:\n",
    "    reader = csv.reader(file)\n",
    "    head_row = next(reader)\n",
    "    \n",
    "    single_men = 0\n",
    "    single_fem = 0\n",
    "    for row in reader:\n",
    "        area = int(row[1])\n",
    "        status = str(row[3])\n",
    "        age = int(row[2])\n",
    "        sex = int(row[4])\n",
    "        \n",
    "        if age >= 18 and age <= 30:\n",
    "            if area == 1:\n",
    "                if sex == 1:\n",
    "                    if status == \"U\":\n",
    "                        single_men += 1\n",
    "                \n",
    "            if area == 1:\n",
    "                if sex == 2:\n",
    "                    if status == \"U\":\n",
    "                        single_fem += 1\n",
    "                            \n",
    "print(\"total single man in Indre By, age 18 to 30:\",single_men)\n",
    "print(\"total single females in Indre By, age 18 to 30:\",single_fem)"
   ]
  },
  {
   "cell_type": "code",
   "execution_count": 119,
   "metadata": {
    "collapsed": false,
    "deletable": true,
    "editable": true
   },
   "outputs": [
    {
     "name": "stdout",
     "output_type": "stream",
     "text": [
      "[(3, 713), (2, 704), (4, 681)]\n",
      "[(2, 754), (3, 747), (1, 744)]\n",
      "[(2, 778), (1, 775), (3, 773)]\n"
     ]
    },
    {
     "data": {
      "image/png": "[encoded data removed]",
      "text/plain": [
       "<matplotlib.figure.Figure at 0x7fdb1946de10>"
      ]
     },
     "metadata": {},
     "output_type": "display_data"
    }
   ],
   "source": [
    "# 3.\n",
    "# Find the three most populated city parts(BYDEL), in 1992, 2000 and 2015\n",
    "import operator as op\n",
    "d = pd.read_csv(filename)\n",
    "data_set = d.as_matrix()\n",
    "\n",
    "years = [1992, 2000, 2015]\n",
    "bydel = {'1': 'Indre By', '2': 'Østerbro', '3': 'Nørrebro', '4': 'Vesterbro/Kgs. Enghave', '5': 'Valby', '6': 'Vanløse', '7': 'Brønshøj-Husum', '8': 'Bispebjerg', '9': 'Amager Øst', '10': 'Amager Vest', '99': 'Udenfor inddeling'}\n",
    "popultaion_dict = {}\n",
    "popultaion_arr = []\n",
    "\n",
    "\n",
    "for y in years:\n",
    "    year_mask = data_set[:,0] == y\n",
    "    for d in data_set[year_mask]:\n",
    "        bydel = d[1]\n",
    "        if bydel not in popultaion_dict.keys():\n",
    "            popultaion_dict[bydel] = 1\n",
    "        else:\n",
    "            popultaion_dict[bydel] += 1\n",
    "    popultaion_arr.append(popultaion_dict)\n",
    "    popultaion_dict = {}\n",
    "\n",
    "for p in popultaion_arr:\n",
    "    sorted_p = sorted(p.items(), key=op.itemgetter(1), reverse=True)[:3]\n",
    "    print(sorted_p)\n",
    "\n",
    "plt.plot(sorted_p, years, linewidth=10, color='red')\n",
    "plt.show()"
   ]
  },
  {
   "cell_type": "code",
   "execution_count": null,
   "metadata": {
    "collapsed": true,
    "deletable": true,
    "editable": true
   },
   "outputs": [],
   "source": [
    "# 4.\n",
    "# Create to pie-charts, showing the distribution of marital status' \n",
    "# in bydel 1, 2 and 3 in year 2000 and 2015\n"
   ]
  },
  {
   "cell_type": "code",
   "execution_count": null,
   "metadata": {
    "collapsed": true,
    "deletable": true,
    "editable": true
   },
   "outputs": [],
   "source": [
    "# 5.\n",
    "# Make a histogram of the age distribution in all of the municipality of Copenhangen\n"
   ]
  }
 ],
 "metadata": {
  "kernelspec": {
   "display_name": "Python 3",
   "language": "python",
   "name": "python3"
  },
  "language_info": {
   "codemirror_mode": {
    "name": "ipython",
    "version": 3
   },
   "file_extension": ".py",
   "mimetype": "text/x-python",
   "name": "python",
   "nbconvert_exporter": "python",
   "pygments_lexer": "ipython3",
   "version": "3.4.3"
  }
 },
 "nbformat": 4,
 "nbformat_minor": 2
}
